{
 "cells": [
  {
   "cell_type": "markdown",
   "metadata": {},
   "source": [
    "## Index\n",
    "1. [Overview](#Overview)\n",
    "2. [PCA plot of the log transformed raw expression data](#PCA-plot-of-the-log-transformed-raw-expression-data)\n",
    "3. [Boxplot of log2 intensities for the raw data](#Boxplot-of-log2-intensities-for-the-raw-data)\n",
    "4. [Background-adjustment, normalization, summarization](#Background-adjustment,-normalization,-summarization)\n",
    "5. [PCA plot of the calibrated, summarized on exon level data](#PCA-plot-of-the-calibrated,-summarized-on-exon-level-data)\n",
    "6. [tSNE plot of the calibrated, summarized on exon level data](#tSNE-plot-of-the-calibrated,-summarized-on-exon-level-data)\n",
    "7. [Histogram of the median intensities](#Histogram-of-the-median-intensities)\n",
    "8. [Probe-based annotation for MTA 1.0](#Probe-based-annotation-for-MTA-1.0)\n",
    "9. [Contrasts and hypothesis testing using `limma`](#Contrasts-and-hypothesis-testing-using-limma)\n",
    "10. [Transcript-based annotation for-MTA 1.0](#Transcript-based-annotation-for-MTA-1.0)\n",
    "11. [Contrasts and hypothesis testing for transcripts using `limma`](#Contrasts-and-hypothesis-testing-for-transcripts-using-limma)\n",
    "12. [Volcano plot of differentially expressed genes](#Volcano-plot-of-differentially-expressed-genes)\n",
    "13. [Distrubution of expression values](#Distrubution-of-expression-values)\n",
    "14. [Heatmap](#Heatmap)\n",
    "15. [DE genes for background matching](#DE-genes-for-background-matching)\n",
    "16. [Enrichment analysis](#Enrichment-analysis)"
   ]
  },
  {
   "cell_type": "markdown",
   "metadata": {},
   "source": [
    "## Overview"
   ]
  },
  {
   "cell_type": "markdown",
   "metadata": {},
   "source": [
    "Pipeline for this analysis is following:  \n",
    "CEL files → Bioconductor ExpressionSet → QC → Normalization → Differential gene expression analysis → Enrichment analysis"
   ]
  },
  {
   "cell_type": "markdown",
   "metadata": {},
   "source": [
    "#### Description of GeneChip® Mouse Exon 1.0 ST Array (Mouse Transcriptome Assay 1.0)\n",
    ">With approximately four probes per exon and roughly 40 probes per gene, the GeneChip® Mouse Exon 1.0 ST Array enables two complementary levels of analysis—gene expression and alternative splicing.\n",
    "Multiple probes per exon enable \"exon-level\" analysis and allow you to distinguish between different isoforms of a gene. This exon-level analysis on a whole-genome scale opens the door to detecting specific alterations in exon usage that may play a central role in disease mechanism and etiology.\n",
    "The second level is \"gene-level\" expression analysis, in which multiple probes on different exons are summarized into an expression value of all transcripts from the same gene.\n",
    "Exon arrays provide the most comprehensive coverage of the genome, including empirically supported and predicted transcribed sequences, enabling the discovery of previously unidentified novel events."
   ]
  },
  {
   "cell_type": "code",
   "execution_count": 1,
   "metadata": {},
   "outputs": [
    {
     "name": "stdout",
     "output_type": "stream",
     "text": [
      "\n",
      "The downloaded binary packages are in\n",
      "\t/var/folders/hd/_qjx3t756vvb02_wx55jwqc40000gn/T//RtmpeTYnCI/downloaded_packages\n",
      "\n",
      "The downloaded binary packages are in\n",
      "\t/var/folders/hd/_qjx3t756vvb02_wx55jwqc40000gn/T//RtmpeTYnCI/downloaded_packages\n",
      "\n",
      "The downloaded binary packages are in\n",
      "\t/var/folders/hd/_qjx3t756vvb02_wx55jwqc40000gn/T//RtmpeTYnCI/downloaded_packages\n",
      "\n",
      "The downloaded binary packages are in\n",
      "\t/var/folders/hd/_qjx3t756vvb02_wx55jwqc40000gn/T//RtmpeTYnCI/downloaded_packages\n"
     ]
    }
   ],
   "source": [
    "suppressMessages({\n",
    "if (!requireNamespace(\"BiocManager\", quietly = TRUE))\n",
    "    install.packages(\"BiocManager\")\n",
    "BiocManager::install()\n",
    "BiocManager::install(\"mouse4302.db\")\n",
    "BiocManager::install(\"oligo\")\n",
    "\n",
    "install.packages(\"devtools\")\n",
    "library(devtools)\n",
    "install.packages(\"plotly\")\n",
    "install.packages(\"Rtsne\")\n",
    "library(remotes)\n",
    "\n",
    "install_github(\"wjawaid/enrichR\")\n",
    "install_github(\"r-lib/remotes\")\n",
    "\n",
    "library(matrixStats)\n",
    "library(mta10transcriptcluster.db)\n",
    "library(oligo)\n",
    "library(limma)\n",
    "library(genefilter)\n",
    "library(dplyr)\n",
    "library(magrittr)\n",
    "library(stringr)\n",
    "library(ggplot2)\n",
    "library(plotly)\n",
    "library(geneplotter)\n",
    "library(RColorBrewer)\n",
    "library(pheatmap)\n",
    "library(Rtsne)\n",
    "library(enrichR)\n",
    "})"
   ]
  },
  {
   "cell_type": "code",
   "execution_count": 2,
   "metadata": {},
   "outputs": [
    {
     "name": "stdout",
     "output_type": "stream",
     "text": [
      "Reading in : ./DH5881-CLMD_Mo-8.1.CEL\n",
      "Reading in : ./DH5881-CLMD_Mo-8.2.CEL\n",
      "Reading in : ./DH5881-CLMD_Mo-8.3.CEL\n",
      "Reading in : ./DH5881-CLMD_Mo-8.4.CEL\n",
      "Reading in : ./DH5881-CLMD_Mo-8.5.CEL\n",
      "Reading in : ./DH5881-CLMD_Mo-8.6.CEL\n",
      "Reading in : ./DH5881-CLMD_Mo-8.7.CEL\n",
      "Reading in : ./DH5881-CLMD_Mo-8.8.CEL\n"
     ]
    },
    {
     "name": "stderr",
     "output_type": "stream",
     "text": [
      "Warning message in oligo::read.celfiles(filenames = file.path(\".\", SDRF$Array.Data.File), :\n",
      "“'channel' automatically added to varMetadata in phenoData.”"
     ]
    },
    {
     "data": {
      "text/html": [
       "<table>\n",
       "<caption>A data.frame: 6 × 6</caption>\n",
       "<thead>\n",
       "\t<tr><th></th><th scope=col>Source.Name</th><th scope=col>Individual</th><th scope=col>Organism</th><th scope=col>Phenotype</th><th scope=col>Array.Data.File</th><th scope=col>X</th></tr>\n",
       "\t<tr><th></th><th scope=col>&lt;fct&gt;</th><th scope=col>&lt;dbl&gt;</th><th scope=col>&lt;fct&gt;</th><th scope=col>&lt;fct&gt;</th><th scope=col>&lt;fct&gt;</th><th scope=col>&lt;lgl&gt;</th></tr>\n",
       "</thead>\n",
       "<tbody>\n",
       "\t<tr><th scope=row>DH5881-CLMD_Mo-8.1.CEL</th><td>C1 RNA d8 </td><td>8.1</td><td>Mus musculus</td><td>control </td><td>DH5881-CLMD_Mo-8.1.CEL</td><td>NA</td></tr>\n",
       "\t<tr><th scope=row>DH5881-CLMD_Mo-8.2.CEL</th><td>C2 RNA d8 </td><td>8.2</td><td>Mus musculus</td><td>control </td><td>DH5881-CLMD_Mo-8.2.CEL</td><td>NA</td></tr>\n",
       "\t<tr><th scope=row>DH5881-CLMD_Mo-8.3.CEL</th><td>C3 RNA d8 </td><td>8.3</td><td>Mus musculus</td><td>control </td><td>DH5881-CLMD_Mo-8.3.CEL</td><td>NA</td></tr>\n",
       "\t<tr><th scope=row>DH5881-CLMD_Mo-8.4.CEL</th><td>C4 RNA d8 </td><td>8.4</td><td>Mus musculus</td><td>control </td><td>DH5881-CLMD_Mo-8.4.CEL</td><td>NA</td></tr>\n",
       "\t<tr><th scope=row>DH5881-CLMD_Mo-8.5.CEL</th><td>HL1 RNA d8</td><td>8.5</td><td>Mus musculus</td><td>helpless</td><td>DH5881-CLMD_Mo-8.5.CEL</td><td>NA</td></tr>\n",
       "\t<tr><th scope=row>DH5881-CLMD_Mo-8.6.CEL</th><td>HL2 RNA d8</td><td>8.6</td><td>Mus musculus</td><td>helpless</td><td>DH5881-CLMD_Mo-8.6.CEL</td><td>NA</td></tr>\n",
       "</tbody>\n",
       "</table>\n"
      ],
      "text/latex": [
       "A data.frame: 6 × 6\n",
       "\\begin{tabular}{r|llllll}\n",
       "  & Source.Name & Individual & Organism & Phenotype & Array.Data.File & X\\\\\n",
       "  & <fct> & <dbl> & <fct> & <fct> & <fct> & <lgl>\\\\\n",
       "\\hline\n",
       "\tDH5881-CLMD\\_Mo-8.1.CEL & C1 RNA d8  & 8.1 & Mus musculus & control  & DH5881-CLMD\\_Mo-8.1.CEL & NA\\\\\n",
       "\tDH5881-CLMD\\_Mo-8.2.CEL & C2 RNA d8  & 8.2 & Mus musculus & control  & DH5881-CLMD\\_Mo-8.2.CEL & NA\\\\\n",
       "\tDH5881-CLMD\\_Mo-8.3.CEL & C3 RNA d8  & 8.3 & Mus musculus & control  & DH5881-CLMD\\_Mo-8.3.CEL & NA\\\\\n",
       "\tDH5881-CLMD\\_Mo-8.4.CEL & C4 RNA d8  & 8.4 & Mus musculus & control  & DH5881-CLMD\\_Mo-8.4.CEL & NA\\\\\n",
       "\tDH5881-CLMD\\_Mo-8.5.CEL & HL1 RNA d8 & 8.5 & Mus musculus & helpless & DH5881-CLMD\\_Mo-8.5.CEL & NA\\\\\n",
       "\tDH5881-CLMD\\_Mo-8.6.CEL & HL2 RNA d8 & 8.6 & Mus musculus & helpless & DH5881-CLMD\\_Mo-8.6.CEL & NA\\\\\n",
       "\\end{tabular}\n"
      ],
      "text/markdown": [
       "\n",
       "A data.frame: 6 × 6\n",
       "\n",
       "| <!--/--> | Source.Name &lt;fct&gt; | Individual &lt;dbl&gt; | Organism &lt;fct&gt; | Phenotype &lt;fct&gt; | Array.Data.File &lt;fct&gt; | X &lt;lgl&gt; |\n",
       "|---|---|---|---|---|---|---|\n",
       "| DH5881-CLMD_Mo-8.1.CEL | C1 RNA d8  | 8.1 | Mus musculus | control  | DH5881-CLMD_Mo-8.1.CEL | NA |\n",
       "| DH5881-CLMD_Mo-8.2.CEL | C2 RNA d8  | 8.2 | Mus musculus | control  | DH5881-CLMD_Mo-8.2.CEL | NA |\n",
       "| DH5881-CLMD_Mo-8.3.CEL | C3 RNA d8  | 8.3 | Mus musculus | control  | DH5881-CLMD_Mo-8.3.CEL | NA |\n",
       "| DH5881-CLMD_Mo-8.4.CEL | C4 RNA d8  | 8.4 | Mus musculus | control  | DH5881-CLMD_Mo-8.4.CEL | NA |\n",
       "| DH5881-CLMD_Mo-8.5.CEL | HL1 RNA d8 | 8.5 | Mus musculus | helpless | DH5881-CLMD_Mo-8.5.CEL | NA |\n",
       "| DH5881-CLMD_Mo-8.6.CEL | HL2 RNA d8 | 8.6 | Mus musculus | helpless | DH5881-CLMD_Mo-8.6.CEL | NA |\n",
       "\n"
      ],
      "text/plain": [
       "                       Source.Name Individual Organism     Phenotype\n",
       "DH5881-CLMD_Mo-8.1.CEL C1 RNA d8   8.1        Mus musculus control  \n",
       "DH5881-CLMD_Mo-8.2.CEL C2 RNA d8   8.2        Mus musculus control  \n",
       "DH5881-CLMD_Mo-8.3.CEL C3 RNA d8   8.3        Mus musculus control  \n",
       "DH5881-CLMD_Mo-8.4.CEL C4 RNA d8   8.4        Mus musculus control  \n",
       "DH5881-CLMD_Mo-8.5.CEL HL1 RNA d8  8.5        Mus musculus helpless \n",
       "DH5881-CLMD_Mo-8.6.CEL HL2 RNA d8  8.6        Mus musculus helpless \n",
       "                       Array.Data.File        X \n",
       "DH5881-CLMD_Mo-8.1.CEL DH5881-CLMD_Mo-8.1.CEL NA\n",
       "DH5881-CLMD_Mo-8.2.CEL DH5881-CLMD_Mo-8.2.CEL NA\n",
       "DH5881-CLMD_Mo-8.3.CEL DH5881-CLMD_Mo-8.3.CEL NA\n",
       "DH5881-CLMD_Mo-8.4.CEL DH5881-CLMD_Mo-8.4.CEL NA\n",
       "DH5881-CLMD_Mo-8.5.CEL DH5881-CLMD_Mo-8.5.CEL NA\n",
       "DH5881-CLMD_Mo-8.6.CEL DH5881-CLMD_Mo-8.6.CEL NA"
      ]
     },
     "metadata": {},
     "output_type": "display_data"
    }
   ],
   "source": [
    "setwd(\"CEL_files\")\n",
    "cel_files<-list.celfiles()\n",
    "\n",
    "SDRF <- read.delim(\"DH5881.sdrf.txt\")\n",
    "rownames(SDRF) <- SDRF$Array.Data.File\n",
    "SDRF <- AnnotatedDataFrame(SDRF)\n",
    "\n",
    "raw_data <- oligo::read.celfiles(filenames = file.path(\".\", SDRF$Array.Data.File), verbose = FALSE, phenoData = SDRF)\n",
    "head(Biobase::pData(raw_data))"
   ]
  },
  {
   "cell_type": "code",
   "execution_count": 3,
   "metadata": {},
   "outputs": [
    {
     "data": {
      "image/png": "[encoded data removed]",
      "text/plain": []
     },
     "metadata": {},
     "output_type": "display_data"
    }
   ],
   "source": [
    "oligo::boxplot(raw_data, target = \"core\",\n",
    "               ylab=\"log2(intensitity)\",\n",
    "               xlab=element_blank(),\n",
    "               las=2,\n",
    "               main=element_blank(),\n",
    "               xaxt=\"n\")\n",
    "end_point = 0.5 + nrow(Biobase::pData(raw_data))\n",
    "text(seq(1,end_point,by=1), par(\"usr\")[3]-0.1, \n",
    "     srt = 45, adj= 1, xpd = TRUE,\n",
    "     labels = paste(rownames(Biobase::pData(raw_data))), cex=0.5)"
   ]
  },
  {
   "cell_type": "markdown",
   "metadata": {},
   "source": [
    "## Background normalization"
   ]
  },
  {
   "cell_type": "code",
   "execution_count": 4,
   "metadata": {},
   "outputs": [
    {
     "name": "stdout",
     "output_type": "stream",
     "text": [
      "Background correcting\n",
      "Normalizing\n",
      "Calculating Expression\n"
     ]
    }
   ],
   "source": [
    "cel_norm <- oligo::rma(raw_data, target = \"core\")"
   ]
  },
  {
   "cell_type": "markdown",
   "metadata": {},
   "source": [
    "## PCA plot"
   ]
  },
  {
   "cell_type": "code",
   "execution_count": 5,
   "metadata": {},
   "outputs": [
    {
     "data": {
      "text/html": [
       "<table>\n",
       "<caption>A matrix: 8 × 8 of type dbl</caption>\n",
       "<thead>\n",
       "\t<tr><th></th><th scope=col>PC1</th><th scope=col>PC2</th><th scope=col>PC3</th><th scope=col>PC4</th><th scope=col>PC5</th><th scope=col>PC6</th><th scope=col>PC7</th><th scope=col>PC8</th></tr>\n",
       "</thead>\n",
       "<tbody>\n",
       "\t<tr><th scope=row>DH5881-CLMD_Mo-8.1.CEL</th><td>-14.619115</td><td>  3.456285</td><td>-16.385319</td><td> 15.2275020</td><td>  2.564145</td><td>-20.9167227</td><td>  2.881102</td><td> 2.050640e-13</td></tr>\n",
       "\t<tr><th scope=row>DH5881-CLMD_Mo-8.2.CEL</th><td> -8.824386</td><td>-18.359816</td><td>-19.480350</td><td> -0.3166602</td><td>-14.195272</td><td> 14.9014810</td><td> -5.534183</td><td> 7.542252e-14</td></tr>\n",
       "\t<tr><th scope=row>DH5881-CLMD_Mo-8.3.CEL</th><td>-24.128670</td><td> 16.295578</td><td> -3.420756</td><td>-19.7360902</td><td> 15.372561</td><td>  3.6728344</td><td> -7.275554</td><td> 5.118898e-15</td></tr>\n",
       "\t<tr><th scope=row>DH5881-CLMD_Mo-8.4.CEL</th><td>-31.783584</td><td> -9.330038</td><td> 25.402265</td><td>  5.8335863</td><td> -6.499922</td><td>  0.8670842</td><td>  5.034746</td><td> 1.935850e-13</td></tr>\n",
       "\t<tr><th scope=row>DH5881-CLMD_Mo-8.5.CEL</th><td> 19.743663</td><td>-13.212597</td><td>  2.169585</td><td> 12.8503817</td><td> 22.082163</td><td> 10.1901269</td><td>  3.932993</td><td> 1.214269e-13</td></tr>\n",
       "\t<tr><th scope=row>DH5881-CLMD_Mo-8.6.CEL</th><td> 19.875575</td><td> 22.886823</td><td>  8.205886</td><td> 10.9525095</td><td> -8.365909</td><td>  1.9379694</td><td>-17.290959</td><td>-1.021722e-13</td></tr>\n",
       "\t<tr><th scope=row>DH5881-CLMD_Mo-8.7.CEL</th><td> 24.343047</td><td>-20.351210</td><td>  5.972639</td><td>-17.9276816</td><td> -2.735090</td><td>-14.9541651</td><td> -4.155182</td><td>-5.193764e-14</td></tr>\n",
       "\t<tr><th scope=row>DH5881-CLMD_Mo-8.8.CEL</th><td> 15.393470</td><td> 18.614975</td><td> -2.463950</td><td> -6.8835476</td><td> -8.222676</td><td>  4.3013919</td><td> 22.407038</td><td>-1.335186e-13</td></tr>\n",
       "</tbody>\n",
       "</table>\n"
      ],
      "text/latex": [
       "A matrix: 8 × 8 of type dbl\n",
       "\\begin{tabular}{r|llllllll}\n",
       "  & PC1 & PC2 & PC3 & PC4 & PC5 & PC6 & PC7 & PC8\\\\\n",
       "\\hline\n",
       "\tDH5881-CLMD\\_Mo-8.1.CEL & -14.619115 &   3.456285 & -16.385319 &  15.2275020 &   2.564145 & -20.9167227 &   2.881102 &  2.050640e-13\\\\\n",
       "\tDH5881-CLMD\\_Mo-8.2.CEL &  -8.824386 & -18.359816 & -19.480350 &  -0.3166602 & -14.195272 &  14.9014810 &  -5.534183 &  7.542252e-14\\\\\n",
       "\tDH5881-CLMD\\_Mo-8.3.CEL & -24.128670 &  16.295578 &  -3.420756 & -19.7360902 &  15.372561 &   3.6728344 &  -7.275554 &  5.118898e-15\\\\\n",
       "\tDH5881-CLMD\\_Mo-8.4.CEL & -31.783584 &  -9.330038 &  25.402265 &   5.8335863 &  -6.499922 &   0.8670842 &   5.034746 &  1.935850e-13\\\\\n",
       "\tDH5881-CLMD\\_Mo-8.5.CEL &  19.743663 & -13.212597 &   2.169585 &  12.8503817 &  22.082163 &  10.1901269 &   3.932993 &  1.214269e-13\\\\\n",
       "\tDH5881-CLMD\\_Mo-8.6.CEL &  19.875575 &  22.886823 &   8.205886 &  10.9525095 &  -8.365909 &   1.9379694 & -17.290959 & -1.021722e-13\\\\\n",
       "\tDH5881-CLMD\\_Mo-8.7.CEL &  24.343047 & -20.351210 &   5.972639 & -17.9276816 &  -2.735090 & -14.9541651 &  -4.155182 & -5.193764e-14\\\\\n",
       "\tDH5881-CLMD\\_Mo-8.8.CEL &  15.393470 &  18.614975 &  -2.463950 &  -6.8835476 &  -8.222676 &   4.3013919 &  22.407038 & -1.335186e-13\\\\\n",
       "\\end{tabular}\n"
      ],
      "text/markdown": [
       "\n",
       "A matrix: 8 × 8 of type dbl\n",
       "\n",
       "| <!--/--> | PC1 | PC2 | PC3 | PC4 | PC5 | PC6 | PC7 | PC8 |\n",
       "|---|---|---|---|---|---|---|---|---|\n",
       "| DH5881-CLMD_Mo-8.1.CEL | -14.619115 |   3.456285 | -16.385319 |  15.2275020 |   2.564145 | -20.9167227 |   2.881102 |  2.050640e-13 |\n",
       "| DH5881-CLMD_Mo-8.2.CEL |  -8.824386 | -18.359816 | -19.480350 |  -0.3166602 | -14.195272 |  14.9014810 |  -5.534183 |  7.542252e-14 |\n",
       "| DH5881-CLMD_Mo-8.3.CEL | -24.128670 |  16.295578 |  -3.420756 | -19.7360902 |  15.372561 |   3.6728344 |  -7.275554 |  5.118898e-15 |\n",
       "| DH5881-CLMD_Mo-8.4.CEL | -31.783584 |  -9.330038 |  25.402265 |   5.8335863 |  -6.499922 |   0.8670842 |   5.034746 |  1.935850e-13 |\n",
       "| DH5881-CLMD_Mo-8.5.CEL |  19.743663 | -13.212597 |   2.169585 |  12.8503817 |  22.082163 |  10.1901269 |   3.932993 |  1.214269e-13 |\n",
       "| DH5881-CLMD_Mo-8.6.CEL |  19.875575 |  22.886823 |   8.205886 |  10.9525095 |  -8.365909 |   1.9379694 | -17.290959 | -1.021722e-13 |\n",
       "| DH5881-CLMD_Mo-8.7.CEL |  24.343047 | -20.351210 |   5.972639 | -17.9276816 |  -2.735090 | -14.9541651 |  -4.155182 | -5.193764e-14 |\n",
       "| DH5881-CLMD_Mo-8.8.CEL |  15.393470 |  18.614975 |  -2.463950 |  -6.8835476 |  -8.222676 |   4.3013919 |  22.407038 | -1.335186e-13 |\n",
       "\n"
      ],
      "text/plain": [
       "                       PC1        PC2        PC3        PC4         PC5       \n",
       "DH5881-CLMD_Mo-8.1.CEL -14.619115   3.456285 -16.385319  15.2275020   2.564145\n",
       "DH5881-CLMD_Mo-8.2.CEL  -8.824386 -18.359816 -19.480350  -0.3166602 -14.195272\n",
       "DH5881-CLMD_Mo-8.3.CEL -24.128670  16.295578  -3.420756 -19.7360902  15.372561\n",
       "DH5881-CLMD_Mo-8.4.CEL -31.783584  -9.330038  25.402265   5.8335863  -6.499922\n",
       "DH5881-CLMD_Mo-8.5.CEL  19.743663 -13.212597   2.169585  12.8503817  22.082163\n",
       "DH5881-CLMD_Mo-8.6.CEL  19.875575  22.886823   8.205886  10.9525095  -8.365909\n",
       "DH5881-CLMD_Mo-8.7.CEL  24.343047 -20.351210   5.972639 -17.9276816  -2.735090\n",
       "DH5881-CLMD_Mo-8.8.CEL  15.393470  18.614975  -2.463950  -6.8835476  -8.222676\n",
       "                       PC6         PC7        PC8          \n",
       "DH5881-CLMD_Mo-8.1.CEL -20.9167227   2.881102  2.050640e-13\n",
       "DH5881-CLMD_Mo-8.2.CEL  14.9014810  -5.534183  7.542252e-14\n",
       "DH5881-CLMD_Mo-8.3.CEL   3.6728344  -7.275554  5.118898e-15\n",
       "DH5881-CLMD_Mo-8.4.CEL   0.8670842   5.034746  1.935850e-13\n",
       "DH5881-CLMD_Mo-8.5.CEL  10.1901269   3.932993  1.214269e-13\n",
       "DH5881-CLMD_Mo-8.6.CEL   1.9379694 -17.290959 -1.021722e-13\n",
       "DH5881-CLMD_Mo-8.7.CEL -14.9541651  -4.155182 -5.193764e-14\n",
       "DH5881-CLMD_Mo-8.8.CEL   4.3013919  22.407038 -1.335186e-13"
      ]
     },
     "metadata": {},
     "output_type": "display_data"
    }
   ],
   "source": [
    "exp_cel <- Biobase::exprs(cel_norm)\n",
    "PCA <- prcomp(t(exp_cel), scale = FALSE)\n",
    "PCA$x"
   ]
  },
  {
   "cell_type": "markdown",
   "metadata": {},
   "source": [
    "## tSNE plot"
   ]
  },
  {
   "cell_type": "code",
   "execution_count": 12,
   "metadata": {},
   "outputs": [
    {
     "name": "stdout",
     "output_type": "stream",
     "text": [
      "Performing PCA\n",
      "Read the 8 x 8 data matrix successfully!\n",
      "OpenMP is working. 1 threads.\n",
      "Using no_dims = 3, perplexity = 2.000000, and theta = 0.500000\n",
      "Computing input similarities...\n",
      "Building tree...\n",
      "Done in 0.00 seconds (sparsity = 0.843750)!\n",
      "Learning embedding...\n",
      "Iteration 50: error is 57.696774 (50 iterations in 0.00 seconds)\n",
      "Iteration 100: error is 50.397478 (50 iterations in 0.00 seconds)\n",
      "Iteration 150: error is 56.089528 (50 iterations in 0.00 seconds)\n",
      "Iteration 200: error is 62.949518 (50 iterations in 0.00 seconds)\n",
      "Iteration 250: error is 72.668173 (50 iterations in 0.00 seconds)\n",
      "Iteration 300: error is 0.781799 (50 iterations in 0.00 seconds)\n",
      "Iteration 350: error is 0.073092 (50 iterations in 0.00 seconds)\n",
      "Iteration 400: error is 0.061128 (50 iterations in 0.00 seconds)\n",
      "Iteration 450: error is 0.054093 (50 iterations in 0.00 seconds)\n",
      "Iteration 500: error is 0.052939 (50 iterations in 0.00 seconds)\n",
      "Fitting performed in 0.01 seconds.\n"
     ]
    }
   ],
   "source": [
    "tsne <- Rtsne(PCA$x, dims = 3, perplexity=2, verbose=TRUE, max_iter = 500)"
   ]
  },
  {
   "cell_type": "code",
   "execution_count": 15,
   "metadata": {},
   "outputs": [
    {
     "data": {
      "image/png": "[encoded data removed]",
      "text/plain": [
       "plot without title"
      ]
     },
     "metadata": {},
     "output_type": "display_data"
    }
   ],
   "source": [
    "experimental_design <- c(rep(\"control\", 4), rep(\"helpless\", 4))\n",
    "tsne_plot <- data.frame(x = tsne$Y[,1], y = tsne$Y[,2], sample=experimental_design)\n",
    "options(repr.plot.width = 7, repr.plot.height = 7)\n",
    "ggplot(tsne_plot) + geom_point(aes(x=x, y=y, color=experimental_design), size=3) +\n",
    "    theme_bw() +\n",
    "    theme(legend.position = c(0.85, 0.15)) + \n",
    "    scale_color_manual(values = c(\"darkorange2\", \"dodgerblue4\"))"
   ]
  },
  {
   "cell_type": "markdown",
   "metadata": {},
   "source": [
    "## Histogram of the median intensities"
   ]
  },
  {
   "cell_type": "markdown",
   "metadata": {},
   "source": [
    "Affymetrics microarrays shows a lot of probes within background intensity range. These probes signal is not noise per se, but it doesn't provide any useful information, so `limma` recommends intensity-based filtering.\n",
    "So we'll filter out low intensity low variability probes that are consistent in these features across microarrays.\n",
    "\n",
    "To see these probes, we'll plot a histogram of median intensities."
   ]
  },
  {
   "cell_type": "code",
   "execution_count": 16,
   "metadata": {},
   "outputs": [
    {
     "data": {
      "image/png": "[encoded data removed]",
      "text/plain": []
     },
     "metadata": {},
     "output_type": "display_data"
    }
   ],
   "source": [
    "man_threshold <- 4.25\n",
    "cel_medians <- rowMedians(Biobase::exprs(cel_norm))\n",
    "options(repr.plot.width = 5, repr.plot.height = 5)\n",
    "hist_res <- hist(cel_medians, 100, col = \"lightblue1\", freq = FALSE, \n",
    "            main = element_blank(),\n",
    "            xlab = \"Median intensities\")\n",
    "\n",
    "abline(v = man_threshold, col = \"coral4\", lwd = 1)"
   ]
  },
  {
   "cell_type": "code",
   "execution_count": 18,
   "metadata": {},
   "outputs": [
    {
     "data": {
      "text/plain": [
       "\n",
       " control helpless \n",
       "       4        4 "
      ]
     },
     "metadata": {},
     "output_type": "display_data"
    }
   ],
   "source": [
    "no_of_samples <- table(paste0(pData(cel_norm)$Phenotype))\n",
    "no_of_samples "
   ]
  },
  {
   "cell_type": "code",
   "execution_count": null,
   "metadata": {},
   "outputs": [],
   "source": [
    "samples_cutoff <- min(no_of_samples)\n",
    "idx_threshold <- apply(Biobase::exprs(cel_norm), 1,\n",
    "                           function(x){\n",
    "                          sum(x > man_threshold) >= samples_cutoff})\n",
    "table(idx_threshold)\n",
    "cel_filtered <- subset(cel_norm, idx_threshold)"
   ]
  },
  {
   "cell_type": "markdown",
   "metadata": {},
   "source": [
    "## Transcription-based annotation for MTA 1.0"
   ]
  },
  {
   "cell_type": "code",
   "execution_count": 19,
   "metadata": {},
   "outputs": [
    {
     "ename": "ERROR",
     "evalue": "Error in AnnotationDbi::select(mta10probeset.db, keys = (featureNames(cel_manfiltered)), : object 'mta10probeset.db' not found\n",
     "output_type": "error",
     "traceback": [
      "Error in AnnotationDbi::select(mta10probeset.db, keys = (featureNames(cel_manfiltered)), : object 'mta10probeset.db' not found\nTraceback:\n",
      "1. AnnotationDbi::select(mta10probeset.db, keys = (featureNames(cel_manfiltered)), \n .     columns = c(\"SYMBOL\", \"REFSEQ\"), keytype = \"PROBEID\")"
     ]
    }
   ],
   "source": [
    "anno_cel <- AnnotationDbi::select(mta10transcriptcluster.db,\n",
    "                                  keys = (featureNames(cel_filtered)),\n",
    "                                  columns = c(\"SYMBOL\", \"REFSEQ\"),\n",
    "                                  keytype = \"PROBEID\")\n",
    "anno_cel <- subset(anno_cel, !is.na(SYMBOL))\n",
    "anno_grouped <- group_by(anno_cel, PROBEID)\n",
    "anno_summarized <- dplyr::summarize(anno_grouped, no_of_matches = n_distinct(SYMBOL))\n",
    "anno_filtered <- filter(anno_summarized, no_of_matches > 1)\n",
    "probe_stats <- anno_filtered\n",
    "dim(probe_stats)"
   ]
  },
  {
   "cell_type": "code",
   "execution_count": null,
   "metadata": {},
   "outputs": [],
   "source": [
    "ids_to_exlude <- (featureNames(cel_filtered) %in% probe_stats$PROBEID)\n",
    "table(ids_to_exlude)"
   ]
  },
  {
   "cell_type": "code",
   "execution_count": null,
   "metadata": {},
   "outputs": [],
   "source": [
    "cel_final <- subset(cel_filtered, !ids_to_exlude)"
   ]
  },
  {
   "cell_type": "code",
   "execution_count": null,
   "metadata": {},
   "outputs": [],
   "source": [
    "fData(cel_final)$PROBEID <- rownames(fData(cel_final))\n",
    "fData(cel_final) <- left_join(fData(cel_final), anno_cel)\n",
    "rownames(fData(cel_final)) <- fData(cel_final)$PROBEID"
   ]
  },
  {
   "cell_type": "markdown",
   "metadata": {},
   "source": [
    "## Heatmap of 100 most variable genes"
   ]
  },
  {
   "cell_type": "markdown",
   "metadata": {},
   "source": [
    "Split expression table to the expression values table and the gene name vector"
   ]
  },
  {
   "cell_type": "code",
   "execution_count": null,
   "metadata": {},
   "outputs": [],
   "source": [
    "heat_cel <- as.data.frame(cbind(fData(cel_final), as.matrix(cel_final)))\n",
    "heat_cel <- na.omit(heat_cel[,!names(heat_cel) %in% c(\"PROBEID\", \"GENENAME\")])"
   ]
  },
  {
   "cell_type": "markdown",
   "metadata": {},
   "source": [
    "Remove duplicates Select  probesets with highest average expression "
   ]
  },
  {
   "cell_type": "code",
   "execution_count": null,
   "metadata": {},
   "outputs": [],
   "source": [
    "heat_cel <- heat_cel[order(rowMeans(heat_cel[,-1]), decreasing = TRUE),]\n",
    "dup_genes <- duplicated(heat_cel$SYMBOL)\n",
    "heat_cel.unique <- heat_cel[!dup_genes,]"
   ]
  },
  {
   "cell_type": "markdown",
   "metadata": {},
   "source": [
    "Take top 100 most variable genes"
   ]
  },
  {
   "cell_type": "code",
   "execution_count": null,
   "metadata": {},
   "outputs": [],
   "source": [
    "# Order probes by variance\n",
    "top_var_genes <- head(order(rowVars(heat_cel.unique[,-1]), decreasing = TRUE), 50)\n",
    "heat_cel.unique_100 <- heat_cel.unique[top_var_genes, ]\n",
    "# Subtract means\n",
    "heat_cel.unique_100[,-1] <- heat_cel.unique_100[,-1] - rowMeans(heat_cel.unique_100[,-1])\n",
    "rownames(heat_cel.unique_100) <- heat_cel.unique_100$SYMBOL\n",
    "heat_cel.unique_100 <- heat_cel.unique_100[,!names(heat_cel) %in% c(\"SYMBOL\")]"
   ]
  },
  {
   "cell_type": "markdown",
   "metadata": {},
   "source": [
    "Annotate samples"
   ]
  },
  {
   "cell_type": "code",
   "execution_count": null,
   "metadata": {},
   "outputs": [],
   "source": [
    "day_post_infection <- Biobase::pData(cel_final)$day_post_infection\n",
    "day_post_infection <- ifelse(day_post_infection == \"8\", \"d8\", \"d46\")\n",
    "\n",
    "treatment <- str_replace_all(Biobase::pData(cel_final)$treatment, \" \", \"_\")\n",
    "treatment <- ifelse(treatment == \"ex_vivo\", \"ev\", \"h3\")\n",
    "\n",
    "ann_column <- cbind.data.frame(day_post_infection, treatment)\n",
    "rownames(ann_column) <- colnames(heat_cel.unique_100)\n",
    "ann_colors <- list(day_post_infection = c(d8 = \"#b4e7ce\", d46 = \"#59a96a\"), treatment = c(h3 = \"#87bcde\", ev = \"#f2f3ae\"))"
   ]
  },
  {
   "cell_type": "code",
   "execution_count": null,
   "metadata": {},
   "outputs": [],
   "source": [
    "options(repr.plot.width = 7, repr.plot.height = 12)\n",
    "pheatmap(heat_cel.unique_100,\n",
    "         annotation_col=ann_column,\n",
    "         annotation_colors=ann_colors,\n",
    "         treeheight_row = 0,\n",
    "         cutree_cols = 2,\n",
    "         border_color = NA,\n",
    "         legend_breaks = c(min(heat_cel.unique_100), max(heat_cel.unique_100)),\n",
    "         legend_labels = (c(\"down-regulated\", \"up-regulated\")))"
   ]
  },
  {
   "cell_type": "markdown",
   "metadata": {},
   "source": [
    "## DE analysis using `limma`"
   ]
  },
  {
   "cell_type": "markdown",
   "metadata": {},
   "source": [
    "(Manually) Describe experimental design and save it in design matrices"
   ]
  },
  {
   "cell_type": "code",
   "execution_count": null,
   "metadata": {},
   "outputs": [],
   "source": [
    "sample <- str_replace_all(as.character(Biobase::pData(cel_final)$file), \".CEL\", \"\")"
   ]
  },
  {
   "cell_type": "code",
   "execution_count": null,
   "metadata": {},
   "outputs": [],
   "source": [
    "i_8d <- sample[day_post_infection == \"d8\"]\n",
    "design_cel_8d <- model.matrix(~ 0 + treatment[day_post_infection == \"d8\"])\n",
    "colnames(design_cel_8d)[1:2] <- c(\"ev\", \"h3\")\n",
    "rownames(design_cel_8d) <- i_8d \n",
    "\n",
    "i_46d <- sample[day_post_infection == \"d46\"]\n",
    "design_cel_46d <- model.matrix(~ 0 + treatment[day_post_infection == \"d46\"])\n",
    "colnames(design_cel_46d)[1:2] <- c(\"ev\", \"h3\")\n",
    "rownames(design_cel_46d) <- i_46d "
   ]
  },
  {
   "cell_type": "markdown",
   "metadata": {},
   "source": [
    "[GeneChip® Mouse Expression Set 430 FAQ](https://www.affymetrix.com/support/help/faqs/mouse_430/faq_8.affx) describes how and why in Affymetrix microarrays each gene is referenced by multiple probes. However, Affymetrix does not describe a proper way to interpret ambiguity in probe-gene relation. Thus exist various 'schools' of discarding/merging probes related to the same gene name - use most significant probes, probes with the highest variability, probes with the highest expression. Some approaches advise to BLAST probe sequences and discard the ones that match up with sense strand or introns or genomic regions that do not correspond to any cDNA We'll use probes with the highest expression."
   ]
  },
  {
   "cell_type": "markdown",
   "metadata": {},
   "source": [
    "#### Creating contrast matrix"
   ]
  },
  {
   "cell_type": "code",
   "execution_count": null,
   "metadata": {},
   "outputs": [],
   "source": [
    "contrast_matrix_8d <- makeContrasts(h3-ev, levels = design_cel_8d)"
   ]
  },
  {
   "cell_type": "markdown",
   "metadata": {},
   "source": [
    "#### Apply `limma`"
   ]
  },
  {
   "cell_type": "code",
   "execution_count": null,
   "metadata": {},
   "outputs": [],
   "source": [
    "cel_fit_8d <- eBayes(contrasts.fit(lmFit(cel_final[,day_post_infection == \"d8\"],\n",
    "                                design = design_cel_8d),\n",
    "                                contrast_matrix_8d))"
   ]
  },
  {
   "cell_type": "markdown",
   "metadata": {},
   "source": [
    "#### Select probesets with highest average expression for differential gene"
   ]
  },
  {
   "cell_type": "code",
   "execution_count": null,
   "metadata": {},
   "outputs": [],
   "source": [
    "o_8d <- order(cel_fit_8d$Amean, decreasing=TRUE)\n",
    "dup_8d <- duplicated(cel_fit_8d$genes$SYMBOL[o_8d])\n",
    "cel_fit_8d.unique <- cel_fit_8d[o_8d,][!dup_8d,]"
   ]
  },
  {
   "cell_type": "markdown",
   "metadata": {},
   "source": [
    "#### Write results to a `.tsv` file"
   ]
  },
  {
   "cell_type": "code",
   "execution_count": null,
   "metadata": {},
   "outputs": [],
   "source": [
    "table_8d <- topTable(cel_fit_8d.unique, number = Inf)\n",
    "write.table(table_8d[order(table_8d$P.Value),], file=\"../control_vs_helpless_transcript.tsv\", sep=\"\\t\", row.names=FALSE)"
   ]
  },
  {
   "cell_type": "markdown",
   "metadata": {},
   "source": [
    "## Volcano plot of differentially expressed genes"
   ]
  },
  {
   "cell_type": "code",
   "execution_count": null,
   "metadata": {},
   "outputs": [],
   "source": [
    "nrow(subset(table_8d, abs(logFC) > 2 & adj.P.Val < 0.1))"
   ]
  },
  {
   "cell_type": "code",
   "execution_count": null,
   "metadata": {},
   "outputs": [],
   "source": [
    "vol_table <- subset(na.omit(table_8d), P.Value < 0.05)[c(\"SYMBOL\", \"logFC\", \"P.Value\", \"adj.P.Val\")]\n",
    "dim(vol_table)"
   ]
  },
  {
   "cell_type": "code",
   "execution_count": null,
   "metadata": {},
   "outputs": [],
   "source": [
    "vol_table[\"group\"] <- \"NotSignificant\"\n",
    "vol_table[which(vol_table[\"adj.P.Val\"] < 0.05 & abs(vol_table[\"logFC\"]) < 2 ),\"group\"] <- \"Significant\"\n",
    "\n",
    "# change the grouping for the entries a large enough logFC change but not a low enough p value\n",
    "vol_table[which(vol_table[\"adj.P.Val\"] > 0.05 & abs(vol_table[\"logFC\"]) > 2),\"group\"] <- \"logFC\"\n",
    "\n",
    "# change the grouping for the entries with both significance and large enough logfC change\n",
    "vol_table[which(vol_table[\"adj.P.Val\"] < 0.05 & abs(vol_table[\"logFC\"]) > 2),\"group\"] <- \"Significant & logFC\""
   ]
  },
  {
   "cell_type": "code",
   "execution_count": null,
   "metadata": {},
   "outputs": [],
   "source": [
    "peaks <- vol_table[with(vol_table, order(logFC, adj.P.Val)),][1:10,]\n",
    "peaks <- rbind(peaks, vol_table[with(vol_table, order(-logFC, adj.P.Val)),][1:10,])\n",
    "a <- list()\n",
    "for (i in seq_len(nrow(peaks))) {\n",
    "  m <- peaks[i, ]\n",
    "  a[[i]] <- list(\n",
    "    x = m[[\"logFC\"]],\n",
    "    y = -log10(m[[\"adj.P.Val\"]]),\n",
    "    text = m[[\"SYMBOL\"]],\n",
    "    xref = \"x\",\n",
    "    yref = \"y\",\n",
    "    showarrow = FALSE\n",
    "  )\n",
    "}"
   ]
  },
  {
   "cell_type": "code",
   "execution_count": null,
   "metadata": {
    "scrolled": true
   },
   "outputs": [],
   "source": [
    "p <- plot_ly(data = vol_table, x = ~logFC, y = ~-log10(adj.P.Val), text = ~SYMBOL, mode = \"markers\", color = ~group, type=\"scatter\") %>% \n",
    "  layout(title =\"Volcano Plot\") %>%\n",
    "  layout(annotations = a)\n",
    "p"
   ]
  },
  {
   "cell_type": "markdown",
   "metadata": {},
   "source": [
    "<img src=\"Homann_T_cell_chemokine_project/8d_volcano.png\">"
   ]
  },
  {
   "cell_type": "markdown",
   "metadata": {},
   "source": [
    "## Enrichment analysis"
   ]
  }
 ],
 "metadata": {
  "kernelspec": {
   "display_name": "R",
   "language": "R",
   "name": "ir"
  },
  "language_info": {
   "codemirror_mode": "r",
   "file_extension": ".r",
   "mimetype": "text/x-r-source",
   "name": "R",
   "pygments_lexer": "r",
   "version": "3.6.1"
  }
 },
 "nbformat": 4,
 "nbformat_minor": 4
}
