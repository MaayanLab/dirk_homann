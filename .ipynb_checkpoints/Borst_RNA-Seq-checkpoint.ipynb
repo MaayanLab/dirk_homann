{
 "cells": [
  {
   "cell_type": "markdown",
   "metadata": {},
   "source": [
    "Install all necessary libraries"
   ]
  },
  {
   "cell_type": "code",
   "execution_count": 17,
   "metadata": {},
   "outputs": [
    {
     "name": "stdout",
     "output_type": "stream",
     "text": [
      "\n",
      "The downloaded binary packages are in\n",
      "\t/var/folders/5l/20v0p4zx1j90p6kjpcl3jv_c0000gn/T//Rtmpnvx7rl/downloaded_packages\n"
     ]
    },
    {
     "name": "stderr",
     "output_type": "stream",
     "text": [
      "Bioconductor version 3.10 (BiocManager 1.30.9), R 3.6.1 (2019-07-05)\n",
      "Old packages: 'boot', 'foreign', 'KernSmooth', 'mgcv', 'nlme', 'survival'\n",
      "Bioconductor version 3.10 (BiocManager 1.30.9), R 3.6.1 (2019-07-05)\n",
      "Installing package(s) 'rhdf5', 'tximeta', 'PoiClaClu', 'glmpca', 'ggbeeswarm',\n",
      "  'apeglm', 'IHW', 'ReportingTools', 'Gviz', 'sva', 'RUVSeq', 'vsn',\n",
      "  'pheatmap', 'org.Hs.eg.db', 'DESeq2'\n",
      "also installing the dependency ‘Hmisc’\n",
      "\n"
     ]
    },
    {
     "name": "stdout",
     "output_type": "stream",
     "text": [
      "\n",
      "  There is a binary version available but the source version is later:\n",
      "      binary source needs_compilation\n",
      "Hmisc  4.2-0  4.3-0              TRUE\n",
      "\n",
      "\n",
      "The downloaded binary packages are in\n",
      "\t/var/folders/5l/20v0p4zx1j90p6kjpcl3jv_c0000gn/T//Rtmpnvx7rl/downloaded_packages\n"
     ]
    },
    {
     "name": "stderr",
     "output_type": "stream",
     "text": [
      "installing the source packages ‘Hmisc’, ‘org.Hs.eg.db’\n",
      "\n",
      "Old packages: 'boot', 'foreign', 'KernSmooth', 'mgcv', 'nlme', 'survival'\n"
     ]
    },
    {
     "ename": "ERROR",
     "evalue": "Error in library(\"Hmisc\"): there is no package called ‘Hmisc’\n",
     "output_type": "error",
     "traceback": [
      "Error in library(\"Hmisc\"): there is no package called ‘Hmisc’\nTraceback:\n",
      "1. library(\"Hmisc\")"
     ]
    }
   ],
   "source": [
    "install.packages(\"BiocManager\", dependecies=T)\n",
    "install.packages(\"Hmisc\", type = \"source\", dependecies=T)\n",
    "\n",
    "BiocManager::install()\n",
    "BiocManager::install(c(\"rhdf5\", \"Hmisc\",\"tximeta\", \"PoiClaClu\", \"glmpca\", \"ggbeeswarm\", \"apeglm\", \"IHW\",\n",
    "                       \"ReportingTools\", \"Gviz\", \"sva\", \"RUVSeq\", \"vsn\", \"pheatmap\", \"org.Hs.eg.db\", \"DESeq2\"))\n",
    "\n",
    "library(\"rhdf5\")\n",
    "library(\"vsn\")\n",
    "library(\"tools\")\n",
    "library(\"magrittr\")\n",
    "library(\"dplyr\")\n",
    "library(\"ggplot2\")\n",
    "library(\"pheatmap\")\n",
    "library(\"RColorBrewer\")\n",
    "library(\"genefilter\")\n",
    "library(\"AnnotationDbi\")\n",
    "library(\"org.Hs.eg.db\")\n",
    "library(\"rhdf5\")\n",
    "library(\"Hmisc\")\n",
    "library(\"DESeq2\")\n",
    "library(\"tximeta\")\n",
    "library(\"PoiClaClu\")\n",
    "library(\"glmpca\")\n",
    "library(\"ggbeeswarm\")\n",
    "library(\"apeglm\")\n",
    "library(\"IHW\")\n",
    "library(\"ReportingTools\")\n",
    "library(\"Gviz\")\n",
    "library(\"sva\")\n",
    "\n",
    "library(\"RUVSeq\")"
   ]
  },
  {
   "cell_type": "markdown",
   "metadata": {},
   "source": [
    "Then follow workflow described at [\"RNA-seq workflow: gene-level exploratory analysis and differential expression\"](http://master.bioconductor.org/packages/release/workflows/vignettes/rnaseqGene/inst/doc/rnaseqGene.html#differential-expression-analysis) by Michael Love"
   ]
  },
  {
   "cell_type": "markdown",
   "metadata": {},
   "source": [
    "## Download raw counts from ARCHS4 using updated script"
   ]
  },
  {
   "cell_type": "code",
   "execution_count": 5,
   "metadata": {},
   "outputs": [
    {
     "name": "stderr",
     "output_type": "stream",
     "text": [
      "Bioconductor version 3.9 (BiocManager 1.30.4), R 3.6.1 (2019-07-05)\n",
      "Installing package(s) 'rhdf5'\n",
      "also installing the dependency ‘Rhdf5lib’\n",
      "\n"
     ]
    },
    {
     "name": "stdout",
     "output_type": "stream",
     "text": [
      "\n",
      "The downloaded binary packages are in\n",
      "\t/var/folders/hd/_qjx3t756vvb02_wx55jwqc40000gn/T//Rtmp7jkp7s/downloaded_packages\n"
     ]
    },
    {
     "name": "stderr",
     "output_type": "stream",
     "text": [
      "Update old packages: 'backports', 'BiocManager', 'callr', 'covr', 'data.table',\n",
      "  'digest', 'DT', 'gdtools', 'gridSVG', 'hms', 'htmlTable', 'htmltools',\n",
      "  'htmlwidgets', 'IRanges', 'KernSmooth', 'knitr', 'lambda.r', 'later', 'mgcv',\n",
      "  'openxlsx', 'pkgbuild', 'pkgconfig', 'promises', 'purrr', 'RcppArmadillo',\n",
      "  'rlang', 'rvcheck', 'shiny', 'survival', 'testthat', 'xfun'\n"
     ]
    },
    {
     "name": "stdout",
     "output_type": "stream",
     "text": [
      "[1] \"Downloading compressed gene expression matrix.\"\n",
      "[1] \"Expression file was created at /Users/maximkuleshov/Work/19 10-Sep Dirk Homann/Microarray HL project/GSE89665_expression_matrix.tsv\"\n"
     ]
    }
   ],
   "source": [
    "destination_file = \"mouse_matrix_download.h5\"\n",
    "extracted_expression_file = \"GSE89665_expression_matrix.tsv\"\n",
    "url = \"https://s3.amazonaws.com/mssm-seq-matrix/mouse_matrix.h5\"\n",
    "\n",
    "# Check if gene expression file was already downloaded and check integrity, if not in current directory download file form repository\n",
    "if(!file.exists(destination_file)){\n",
    "    print(\"Downloading compressed gene expression matrix.\")\n",
    "    download.file(url, destination_file, quiet = FALSE)\n",
    "} else{\n",
    "    print(\"Verifying file integrity...\")\n",
    "    checksum = md5sum(destination_file)\n",
    "    \n",
    "    if(destination_file == \"human_matrix_download.h5\"){\n",
    "        # human checksum (checksum is for latest version of ARCHS4 data)\n",
    "        correct_checksum = \"34197866d7841cc4fb31e09195faa150\"\n",
    "    } else{\n",
    "        # mouse checksum (checksum is for latest version of ARCHS4 data)\n",
    "        correct_checksum = \"55441d1af9da82c6f3d368c8fa554d42\"\n",
    "    }\n",
    "    \n",
    "    if(checksum != correct_checksum){\n",
    "        print(\"Existing file looks corrupted or is out of date. Downloading compressed gene expression matrix again.\")\n",
    "        download.file(url, destination_file, quiet = FALSE)\n",
    "    } else{\n",
    "        print(\"Latest ARCHS4 file already exists.\")\n",
    "    }\n",
    "}\n",
    "\n",
    "checksum = md5sum(destination_file)\n",
    "if(destination_file == \"human_matrix_download.h5\"){\n",
    "    # human checksum (checksum is for latest version of ARCHS4 data)\n",
    "    correct_checksum = \"34197866d7841cc4fb31e09195faa150\"\n",
    "} else{\n",
    "    # mouse checksum (checksum is for latest version of ARCHS4 data)\n",
    "    correct_checksum = \"55441d1af9da82c6f3d368c8fa554d42\"\n",
    "}\n",
    "\n",
    "if(checksum != correct_checksum){\n",
    "    print(\"File download ran into problems. Please try to download again. The files are also available for manual download at http://amp.pharm.mssm.edu/archs4/download.html.\")\n",
    "} else{\n",
    "    # Selected samples to be extracted\n",
    "    samp = c(\"GSM2386382\",\"GSM2386383\",\"GSM2386384\",\"GSM2386385\",\"GSM2386386\",\"GSM2386387\",\"GSM2386388\",\"GSM2386389\",\"GSM2386390\",\"GSM2386391\",\"GSM2386392\",\"GSM2386393\",\"GSM2674745\",\"GSM2674746\",\"GSM2674747\",\"GSM2674748\",\"GSM2674749\",\"GSM2674750\",\"GSM2674751\",\"GSM2674752\",\"GSM2674753\",\"GSM2674754\",\"\")\n",
    "\n",
    "    # Retrieve information from compressed data\n",
    "    samples = h5read(destination_file, \"meta/Sample_geo_accession\")\n",
    "    tissue = h5read(destination_file, \"meta/Sample_source_name_ch1\")\n",
    "    genes = h5read(destination_file, \"meta/genes\")\n",
    "\n",
    "    # Identify columns to be extracted\n",
    "    sample_locations = which(samples %in% samp)\n",
    "\n",
    "    # extract gene expression from compressed data\n",
    "    expression = h5read(destination_file, \"data/expression\", index=list(1:length(genes), sample_locations))\n",
    "    H5close()\n",
    "    rownames(expression) = genes\n",
    "    colnames(expression) = samples[sample_locations]\n",
    "\n",
    "    # Print file\n",
    "    write.table(expression, file=extracted_expression_file, sep=\"\\t\", quote=FALSE)\n",
    "    print(paste0(\"Expression file was created at \", getwd(), \"/\", extracted_expression_file))\n",
    "}"
   ]
  },
  {
   "cell_type": "code",
   "execution_count": 9,
   "metadata": {},
   "outputs": [
    {
     "data": {
      "text/html": [
       "<table>\n",
       "<caption>A data.frame: 6 × 10</caption>\n",
       "<thead>\n",
       "\t<tr><th></th><th scope=col>GSM2674745</th><th scope=col>GSM2674746</th><th scope=col>GSM2674747</th><th scope=col>GSM2674748</th><th scope=col>GSM2674749</th><th scope=col>GSM2674750</th><th scope=col>GSM2674751</th><th scope=col>GSM2674752</th><th scope=col>GSM2674753</th><th scope=col>GSM2674754</th></tr>\n",
       "\t<tr><th></th><th scope=col>&lt;int&gt;</th><th scope=col>&lt;int&gt;</th><th scope=col>&lt;int&gt;</th><th scope=col>&lt;int&gt;</th><th scope=col>&lt;int&gt;</th><th scope=col>&lt;int&gt;</th><th scope=col>&lt;int&gt;</th><th scope=col>&lt;int&gt;</th><th scope=col>&lt;int&gt;</th><th scope=col>&lt;int&gt;</th></tr>\n",
       "</thead>\n",
       "<tbody>\n",
       "\t<tr><th scope=row>0610007P14Rik</th><td>398</td><td>309</td><td>397</td><td>345</td><td>349</td><td>403</td><td>342</td><td>523</td><td>687</td><td>468</td></tr>\n",
       "\t<tr><th scope=row>0610009B22Rik</th><td> 46</td><td> 56</td><td> 82</td><td> 43</td><td> 66</td><td> 56</td><td> 40</td><td> 69</td><td>106</td><td>101</td></tr>\n",
       "\t<tr><th scope=row>0610009L18Rik</th><td>  9</td><td>  4</td><td> 10</td><td>  4</td><td>  4</td><td> 16</td><td> 10</td><td>  9</td><td> 10</td><td>  4</td></tr>\n",
       "\t<tr><th scope=row>0610009O20Rik</th><td>384</td><td>274</td><td>457</td><td>309</td><td>477</td><td>383</td><td>359</td><td>447</td><td>594</td><td>526</td></tr>\n",
       "\t<tr><th scope=row>0610010F05Rik</th><td>127</td><td> 99</td><td>238</td><td>133</td><td>186</td><td>154</td><td>164</td><td>269</td><td>302</td><td>200</td></tr>\n",
       "\t<tr><th scope=row>0610010K14Rik</th><td>450</td><td>316</td><td>394</td><td>401</td><td>391</td><td>417</td><td>423</td><td>488</td><td>646</td><td>457</td></tr>\n",
       "</tbody>\n",
       "</table>\n"
      ],
      "text/latex": [
       "A data.frame: 6 × 10\n",
       "\\begin{tabular}{r|llllllllll}\n",
       "  & GSM2674745 & GSM2674746 & GSM2674747 & GSM2674748 & GSM2674749 & GSM2674750 & GSM2674751 & GSM2674752 & GSM2674753 & GSM2674754\\\\\n",
       "  & <int> & <int> & <int> & <int> & <int> & <int> & <int> & <int> & <int> & <int>\\\\\n",
       "\\hline\n",
       "\t0610007P14Rik & 398 & 309 & 397 & 345 & 349 & 403 & 342 & 523 & 687 & 468\\\\\n",
       "\t0610009B22Rik &  46 &  56 &  82 &  43 &  66 &  56 &  40 &  69 & 106 & 101\\\\\n",
       "\t0610009L18Rik &   9 &   4 &  10 &   4 &   4 &  16 &  10 &   9 &  10 &   4\\\\\n",
       "\t0610009O20Rik & 384 & 274 & 457 & 309 & 477 & 383 & 359 & 447 & 594 & 526\\\\\n",
       "\t0610010F05Rik & 127 &  99 & 238 & 133 & 186 & 154 & 164 & 269 & 302 & 200\\\\\n",
       "\t0610010K14Rik & 450 & 316 & 394 & 401 & 391 & 417 & 423 & 488 & 646 & 457\\\\\n",
       "\\end{tabular}\n"
      ],
      "text/markdown": [
       "\n",
       "A data.frame: 6 × 10\n",
       "\n",
       "| <!--/--> | GSM2674745 &lt;int&gt; | GSM2674746 &lt;int&gt; | GSM2674747 &lt;int&gt; | GSM2674748 &lt;int&gt; | GSM2674749 &lt;int&gt; | GSM2674750 &lt;int&gt; | GSM2674751 &lt;int&gt; | GSM2674752 &lt;int&gt; | GSM2674753 &lt;int&gt; | GSM2674754 &lt;int&gt; |\n",
       "|---|---|---|---|---|---|---|---|---|---|---|\n",
       "| 0610007P14Rik | 398 | 309 | 397 | 345 | 349 | 403 | 342 | 523 | 687 | 468 |\n",
       "| 0610009B22Rik |  46 |  56 |  82 |  43 |  66 |  56 |  40 |  69 | 106 | 101 |\n",
       "| 0610009L18Rik |   9 |   4 |  10 |   4 |   4 |  16 |  10 |   9 |  10 |   4 |\n",
       "| 0610009O20Rik | 384 | 274 | 457 | 309 | 477 | 383 | 359 | 447 | 594 | 526 |\n",
       "| 0610010F05Rik | 127 |  99 | 238 | 133 | 186 | 154 | 164 | 269 | 302 | 200 |\n",
       "| 0610010K14Rik | 450 | 316 | 394 | 401 | 391 | 417 | 423 | 488 | 646 | 457 |\n",
       "\n"
      ],
      "text/plain": [
       "              GSM2674745 GSM2674746 GSM2674747 GSM2674748 GSM2674749 GSM2674750\n",
       "0610007P14Rik 398        309        397        345        349        403       \n",
       "0610009B22Rik  46         56         82         43         66         56       \n",
       "0610009L18Rik   9          4         10          4          4         16       \n",
       "0610009O20Rik 384        274        457        309        477        383       \n",
       "0610010F05Rik 127         99        238        133        186        154       \n",
       "0610010K14Rik 450        316        394        401        391        417       \n",
       "              GSM2674751 GSM2674752 GSM2674753 GSM2674754\n",
       "0610007P14Rik 342        523        687        468       \n",
       "0610009B22Rik  40         69        106        101       \n",
       "0610009L18Rik  10          9         10          4       \n",
       "0610009O20Rik 359        447        594        526       \n",
       "0610010F05Rik 164        269        302        200       \n",
       "0610010K14Rik 423        488        646        457       "
      ]
     },
     "metadata": {},
     "output_type": "display_data"
    },
    {
     "data": {
      "text/html": [
       "<table>\n",
       "<caption>A data.frame: 6 × 7</caption>\n",
       "<thead>\n",
       "\t<tr><th></th><th scope=col>title</th><th scope=col>condition</th><th scope=col>geo_accession</th><th scope=col>source_name</th><th scope=col>organism</th><th scope=col>characteristics</th><th scope=col>relation</th></tr>\n",
       "\t<tr><th></th><th scope=col>&lt;fct&gt;</th><th scope=col>&lt;fct&gt;</th><th scope=col>&lt;fct&gt;</th><th scope=col>&lt;fct&gt;</th><th scope=col>&lt;fct&gt;</th><th scope=col>&lt;fct&gt;</th><th scope=col>&lt;fct&gt;</th></tr>\n",
       "</thead>\n",
       "<tbody>\n",
       "\t<tr><th scope=row>GSM2674745</th><td>LCMV_Help_001   </td><td>Help   </td><td>GSM2674745</td><td>spleen</td><td>Mus musculus</td><td>strain: C57BL/6JRj</td><td>SRX2933114</td></tr>\n",
       "\t<tr><th scope=row>GSM2674746</th><td>LCMV_Help_002   </td><td>Help   </td><td>GSM2674746</td><td>spleen</td><td>Mus musculus</td><td>strain: C57BL/6JRj</td><td>SRX2933115</td></tr>\n",
       "\t<tr><th scope=row>GSM2674747</th><td>LCMV_Help_003   </td><td>Help   </td><td>GSM2674747</td><td>spleen</td><td>Mus musculus</td><td>strain: C57BL/6JRj</td><td>SRX2933116</td></tr>\n",
       "\t<tr><th scope=row>GSM2674748</th><td>LCMV_Help_004   </td><td>Help   </td><td>GSM2674748</td><td>spleen</td><td>Mus musculus</td><td>strain: C57BL/6JRj</td><td>SRX2933117</td></tr>\n",
       "\t<tr><th scope=row>GSM2674749</th><td>LCMV_Help_005   </td><td>Help   </td><td>GSM2674749</td><td>spleen</td><td>Mus musculus</td><td>strain: C57BL/6JRj</td><td>SRX2933118</td></tr>\n",
       "\t<tr><th scope=row>GSM2674750</th><td>LCMV_No_Help_001</td><td>No_Help</td><td>GSM2674750</td><td>spleen</td><td>Mus musculus</td><td>strain: C57BL/6JRj</td><td>SRX2933119</td></tr>\n",
       "</tbody>\n",
       "</table>\n"
      ],
      "text/latex": [
       "A data.frame: 6 × 7\n",
       "\\begin{tabular}{r|lllllll}\n",
       "  & title & condition & geo\\_accession & source\\_name & organism & characteristics & relation\\\\\n",
       "  & <fct> & <fct> & <fct> & <fct> & <fct> & <fct> & <fct>\\\\\n",
       "\\hline\n",
       "\tGSM2674745 & LCMV\\_Help\\_001    & Help    & GSM2674745 & spleen & Mus musculus & strain: C57BL/6JRj & SRX2933114\\\\\n",
       "\tGSM2674746 & LCMV\\_Help\\_002    & Help    & GSM2674746 & spleen & Mus musculus & strain: C57BL/6JRj & SRX2933115\\\\\n",
       "\tGSM2674747 & LCMV\\_Help\\_003    & Help    & GSM2674747 & spleen & Mus musculus & strain: C57BL/6JRj & SRX2933116\\\\\n",
       "\tGSM2674748 & LCMV\\_Help\\_004    & Help    & GSM2674748 & spleen & Mus musculus & strain: C57BL/6JRj & SRX2933117\\\\\n",
       "\tGSM2674749 & LCMV\\_Help\\_005    & Help    & GSM2674749 & spleen & Mus musculus & strain: C57BL/6JRj & SRX2933118\\\\\n",
       "\tGSM2674750 & LCMV\\_No\\_Help\\_001 & No\\_Help & GSM2674750 & spleen & Mus musculus & strain: C57BL/6JRj & SRX2933119\\\\\n",
       "\\end{tabular}\n"
      ],
      "text/markdown": [
       "\n",
       "A data.frame: 6 × 7\n",
       "\n",
       "| <!--/--> | title &lt;fct&gt; | condition &lt;fct&gt; | geo_accession &lt;fct&gt; | source_name &lt;fct&gt; | organism &lt;fct&gt; | characteristics &lt;fct&gt; | relation &lt;fct&gt; |\n",
       "|---|---|---|---|---|---|---|---|\n",
       "| GSM2674745 | LCMV_Help_001    | Help    | GSM2674745 | spleen | Mus musculus | strain: C57BL/6JRj | SRX2933114 |\n",
       "| GSM2674746 | LCMV_Help_002    | Help    | GSM2674746 | spleen | Mus musculus | strain: C57BL/6JRj | SRX2933115 |\n",
       "| GSM2674747 | LCMV_Help_003    | Help    | GSM2674747 | spleen | Mus musculus | strain: C57BL/6JRj | SRX2933116 |\n",
       "| GSM2674748 | LCMV_Help_004    | Help    | GSM2674748 | spleen | Mus musculus | strain: C57BL/6JRj | SRX2933117 |\n",
       "| GSM2674749 | LCMV_Help_005    | Help    | GSM2674749 | spleen | Mus musculus | strain: C57BL/6JRj | SRX2933118 |\n",
       "| GSM2674750 | LCMV_No_Help_001 | No_Help | GSM2674750 | spleen | Mus musculus | strain: C57BL/6JRj | SRX2933119 |\n",
       "\n"
      ],
      "text/plain": [
       "           title            condition geo_accession source_name organism    \n",
       "GSM2674745 LCMV_Help_001    Help      GSM2674745    spleen      Mus musculus\n",
       "GSM2674746 LCMV_Help_002    Help      GSM2674746    spleen      Mus musculus\n",
       "GSM2674747 LCMV_Help_003    Help      GSM2674747    spleen      Mus musculus\n",
       "GSM2674748 LCMV_Help_004    Help      GSM2674748    spleen      Mus musculus\n",
       "GSM2674749 LCMV_Help_005    Help      GSM2674749    spleen      Mus musculus\n",
       "GSM2674750 LCMV_No_Help_001 No_Help   GSM2674750    spleen      Mus musculus\n",
       "           characteristics    relation  \n",
       "GSM2674745 strain: C57BL/6JRj SRX2933114\n",
       "GSM2674746 strain: C57BL/6JRj SRX2933115\n",
       "GSM2674747 strain: C57BL/6JRj SRX2933116\n",
       "GSM2674748 strain: C57BL/6JRj SRX2933117\n",
       "GSM2674749 strain: C57BL/6JRj SRX2933118\n",
       "GSM2674750 strain: C57BL/6JRj SRX2933119"
      ]
     },
     "metadata": {},
     "output_type": "display_data"
    }
   ],
   "source": [
    "countdata <- read.csv(file=\"GSE89665_expression_matrix.tsv\", header=TRUE, sep=\"\\t\")[,13:22]\n",
    "coldata <- read.csv(file=\"GSE89665-GPL17021_series_matrix 2.txt\", header=TRUE, sep=\"\\t\", row.names = 1)\n",
    "head(countdata)\n",
    "head(coldata)"
   ]
  },
  {
   "cell_type": "code",
   "execution_count": 10,
   "metadata": {},
   "outputs": [
    {
     "ename": "ERROR",
     "evalue": "Error in DESeqDataSetFromMatrix(countData = countdata, colData = coldata, : could not find function \"DESeqDataSetFromMatrix\"\n",
     "output_type": "error",
     "traceback": [
      "Error in DESeqDataSetFromMatrix(countData = countdata, colData = coldata, : could not find function \"DESeqDataSetFromMatrix\"\nTraceback:\n"
     ]
    }
   ],
   "source": [
    "dds <- DESeqDataSetFromMatrix(countData = countdata,\n",
    "                                 colData = coldata,\n",
    "                                 design = ~ condition)"
   ]
  },
  {
   "cell_type": "markdown",
   "metadata": {},
   "source": [
    "## Filtering\n",
    "Filter rows with at least 5 samples with a count of 10 or higher"
   ]
  },
  {
   "cell_type": "code",
   "execution_count": 51,
   "metadata": {},
   "outputs": [
    {
     "data": {
      "text/html": [
       "32544"
      ],
      "text/latex": [
       "32544"
      ],
      "text/markdown": [
       "32544"
      ],
      "text/plain": [
       "[1] 32544"
      ]
     },
     "metadata": {},
     "output_type": "display_data"
    }
   ],
   "source": [
    "nrow(dds)"
   ]
  },
  {
   "cell_type": "code",
   "execution_count": 60,
   "metadata": {},
   "outputs": [
    {
     "data": {
      "text/html": [
       "12222"
      ],
      "text/latex": [
       "12222"
      ],
      "text/markdown": [
       "12222"
      ],
      "text/plain": [
       "[1] 12222"
      ]
     },
     "metadata": {},
     "output_type": "display_data"
    }
   ],
   "source": [
    "keep <- rowSums(counts(dds) >= 10) >= 5\n",
    "dds <- dds[keep,]\n",
    "nrow(dds)"
   ]
  },
  {
   "cell_type": "markdown",
   "metadata": {},
   "source": [
    "## Normalization"
   ]
  },
  {
   "cell_type": "markdown",
   "metadata": {},
   "source": [
    "As PCA and clustering works better for data with same range of variance at different ranges of the mean values, we need to normalize data, yet preserve raw counts for `DESeq2`.\n",
    "\n",
    "This dataset is small (10 samples - 5 controls and 5 treatments), so we'll use `rlog` (regularized-logarithm transformation) ([Michael I Love, Wolfgang Huber, Simon Anders: Moderated estimation of fold change and dispersion for RNA-seq data with DESeq2. Genome Biology 2014, 15:550.](http://dx.doi.org/10.1186/s13059-014-0550-8)), that works well for datasets with less than 30 samples."
   ]
  },
  {
   "cell_type": "code",
   "execution_count": null,
   "metadata": {},
   "outputs": [],
   "source": [
    "rld <- rlog(dds, blind = FALSE)\n",
    "\n",
    "dds_ <- estimateSizeFactors(dds)\n",
    "\n",
    "df <- bind_rows(\n",
    "  as_data_frame(log2(counts(dds_, normalized=TRUE)[, 1:2]+1)) %>%\n",
    "         mutate(transformation = \"log2(x + 1)\"),\n",
    "  as_data_frame(assay(rld)[, 5:6]) %>% mutate(transformation = \"rlog\"))\n",
    "  \n",
    "colnames(df)[1:2] <- c(\"x\", \"y\")  \n",
    "\n",
    "ggplot(df, aes(x = x, y = y)) + geom_hex(bins = 80) +\n",
    "  coord_fixed() + facet_grid( . ~ transformation) "
   ]
  },
  {
   "cell_type": "code",
   "execution_count": 66,
   "metadata": {},
   "outputs": [
    {
     "data": {
      "image/png": "[encoded data removed]",
      "text/plain": [
       "plot without title"
      ]
     },
     "metadata": {},
     "output_type": "display_data"
    }
   ],
   "source": [
    "plotPCA(rld, intgroup = \"condition\")"
   ]
  },
  {
   "cell_type": "code",
   "execution_count": null,
   "metadata": {},
   "outputs": [],
   "source": []
  }
 ],
 "metadata": {
  "kernelspec": {
   "display_name": "R",
   "language": "R",
   "name": "ir"
  },
  "language_info": {
   "codemirror_mode": "r",
   "file_extension": ".r",
   "mimetype": "text/x-r-source",
   "name": "R",
   "pygments_lexer": "r",
   "version": "3.6.1"
  }
 },
 "nbformat": 4,
 "nbformat_minor": 4
}
