{
 "cells": [
  {
   "cell_type": "markdown",
   "metadata": {},
   "source": [
    "# T-cell chemokine microarrays differential expression analysis"
   ]
  },
  {
   "cell_type": "markdown",
   "metadata": {},
   "source": [
    "## Index"
   ]
  },
  {
   "cell_type": "markdown",
   "metadata": {},
   "source": [
    "1. [Experimental design](#Experimental-design)\n",
    "2. [Loading libraries and dependencies](#Loading-libraries-and-dependencies)\n",
    "3. [PCA plot of the log transformed raw expression data](#PCA-plot-of-the-log-transformed-raw-expression-data)\n",
    "4. [Boxplot of log2 intensities for the raw data](#Boxplot-of-log2-intensities-for-the-raw-data)\n",
    "5. [Background adjustment, normalization, summarization](#Background-adjustment,-normalization,-summarization)\n",
    "6. [PCA plot of the calibrated, summarized on exon level data](#PCA-plot-of-the-calibrated,-summarized-on-exon-level-data)\n",
    "7. [tSNE plot of the calibrated, summarized on exon level data](#tSNE-plot-of-the-calibrated,-summarized-on-exon-level-data)\n",
    "8. [Histogram of the median intensities](#Histogram-of-the-median-intensities)\n",
    "9. [Probe-based annotation for MTA 1.0](#Probe-based-annotation-for-MTA-1.0)\n",
    "10. [Contrasts and hypothesis testing using `limma`](#Contrasts-and-hypothesis-testing-using-limma)\n",
    "10. [Transcript-based annotation for-MTA 1.0](#Transcript-based-annotation-for-MTA-1.0)\n",
    "11. [Contrasts and hypothesis testing for transcripts using `limma`](#Contrasts-and-hypothesis-testing-for-transcripts-using-limma)\n",
    "12. [Volcano plot of differentially expressed genes](#Volcano-plot-of-differentially-expressed-genes)\n",
    "13. [Distrubution of expression values](#Distrubution-of-expression-values)\n",
    "14. [Heatmap](#Heatmap)\n",
    "16. [Enrichment analysis](#Enrichment-analysis)\n",
    "10. [Session info](#Session-info)"
   ]
  },
  {
   "cell_type": "markdown",
   "metadata": {},
   "source": [
    "## Experimental design"
   ]
  },
  {
   "cell_type": "markdown",
   "metadata": {},
   "source": [
    "| Chip   | Filename                     | Day post infection | Treatment      | Tissue |\n",
    "|--------|------------------------------|--------------------|----------------|--------|\n",
    "| 1      | eberlein_d8_1_Mouse430_2.CEL | 8                  | ex vivo        | spleen |\n",
    "| 2      | eberlein_d8_2_Mouse430_2.CEL | 8                  | ex vivo        | spleen |\n",
    "| 3      | eberlein_d8_3_Mouse430_2.CEL | 8                  | ex vivo        | spleen |\n",
    "| 4      | eberlein_d8_4_Mouse430_2.CEL | 8                  | 3h stimulation | spleen |\n",
    "| 5      | eberlein_d8_5_Mouse430_2.CEL | 8                  | 3h stimulation | spleen |\n",
    "| 6      | eberlein_d8_6_Mouse430_2.CEL | 8                  | 3h stimulation | spleen |\n",
    "| 7      | eberlein_1_1_Mouse430_2.CEL  | 46                 | ex vivo        | spleen |\n",
    "| 8      | eberlein_1_2_Mouse430_2.CEL  | 46                 | ex vivo        | spleen |\n",
    "| 9      | eberlein_1_3_Mouse430_2.CEL  | 46                 | ex vivo        | spleen |\n",
    "| 10     | eberlein_1_4_Mouse430_2.CEL  | 46                 | ex vivo        | spleen |\n",
    "| 11     | eberlein_1_5_Mouse430_2.CEL  | 46                 | 3h stimulation | spleen |\n",
    "| 12     | eberlein_1_6_Mouse430_2.CEL  | 46                 | 3h stimulation | spleen |\n",
    "| 13     | eberlein_1_7_Mouse430_2.CEL  | 46                 | 3h stimulation | spleen |\n",
    "| 14     | eberlein_1_8_Mouse430_2.CEL  | 46                 | 3h stimulation | spleen |"
   ]
  },
  {
   "cell_type": "markdown",
   "metadata": {},
   "source": [
    "> The GeneChip™ Mouse Genome 430 2.0 Array is the first and most comprehensive whole mouse genome expression array:\n",
    "• Complete coverage of the Mouse Expression Set 430 for analysis of over 39,000 transcripts on a single array\n",
    "• The Power of the Probe Set - offering multiple independent measurements for each transcript delivering the greatest accuracy and reproducibility of any microarray platform\n",
    "• More information from every experiment for more complete and efficient analysis "
   ]
  },
  {
   "cell_type": "markdown",
   "metadata": {},
   "source": [
    "## Loading libraries and dependencies"
   ]
  },
  {
   "cell_type": "code",
   "execution_count": null,
   "metadata": {},
   "outputs": [],
   "source": []
  },
  {
   "cell_type": "code",
   "execution_count": null,
   "metadata": {},
   "outputs": [],
   "source": []
  },
  {
   "cell_type": "code",
   "execution_count": null,
   "metadata": {},
   "outputs": [],
   "source": []
  },
  {
   "cell_type": "code",
   "execution_count": null,
   "metadata": {},
   "outputs": [],
   "source": []
  },
  {
   "cell_type": "markdown",
   "metadata": {},
   "source": [
    "## Session info"
   ]
  },
  {
   "cell_type": "code",
   "execution_count": null,
   "metadata": {},
   "outputs": [],
   "source": [
    "sessionInfo()"
   ]
  }
 ],
 "metadata": {
  "kernelspec": {
   "display_name": "R",
   "language": "R",
   "name": "ir"
  },
  "language_info": {
   "codemirror_mode": "r",
   "file_extension": ".r",
   "mimetype": "text/x-r-source",
   "name": "R",
   "pygments_lexer": "r",
   "version": "3.6.1"
  }
 },
 "nbformat": 4,
 "nbformat_minor": 4
}
